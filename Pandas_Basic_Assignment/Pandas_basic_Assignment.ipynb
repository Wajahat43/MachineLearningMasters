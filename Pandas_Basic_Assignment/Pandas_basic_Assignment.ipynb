{
 "cells": [
  {
   "cell_type": "code",
   "execution_count": 1,
   "id": "b974578b-65d5-46ba-ad20-ffcf4f70806b",
   "metadata": {},
   "outputs": [],
   "source": [
    "import pandas as pd"
   ]
  },
  {
   "cell_type": "markdown",
   "id": "8ef8fd45-f506-474b-9fa9-af813fed8c53",
   "metadata": {},
   "source": [
    "### Q1. Create a Pandas Series that contains the following data: 4, 8, 15, 16, 23, and 42. Then, print the series."
   ]
  },
  {
   "cell_type": "code",
   "execution_count": 2,
   "id": "aca65879-7fc3-46b0-909d-34818987994e",
   "metadata": {},
   "outputs": [
    {
     "data": {
      "text/plain": [
       "0     4\n",
       "1     8\n",
       "2    15\n",
       "3    16\n",
       "4    23\n",
       "5    42\n",
       "dtype: int64"
      ]
     },
     "execution_count": 2,
     "metadata": {},
     "output_type": "execute_result"
    }
   ],
   "source": [
    "data = pd.Series([4,8,15,16,23,42])\n",
    "data"
   ]
  },
  {
   "cell_type": "markdown",
   "id": "6b8e6a7d-38ec-43ae-817b-2af09cb32c19",
   "metadata": {},
   "source": [
    "### Q2. Create a variable of list type containing 10 elements in it, and apply pandas.Series function on the variable print it."
   ]
  },
  {
   "cell_type": "code",
   "execution_count": 3,
   "id": "5d98d2cf-8cf2-4315-baf5-dddf92450654",
   "metadata": {},
   "outputs": [
    {
     "data": {
      "text/plain": [
       "0     1\n",
       "1     2\n",
       "2     3\n",
       "3     4\n",
       "4     5\n",
       "5     6\n",
       "6     7\n",
       "7     8\n",
       "8     9\n",
       "9    10\n",
       "dtype: int64"
      ]
     },
     "execution_count": 3,
     "metadata": {},
     "output_type": "execute_result"
    }
   ],
   "source": [
    "my_list = [1,2,3,4,5,6,7,8,9,10]\n",
    "list_series = pd.Series(my_list)\n",
    "list_series"
   ]
  },
  {
   "cell_type": "code",
   "execution_count": 4,
   "id": "0ca32b90-0fcb-4518-b534-f79e21827898",
   "metadata": {},
   "outputs": [
    {
     "data": {
      "text/html": [
       "<div>\n",
       "<style scoped>\n",
       "    .dataframe tbody tr th:only-of-type {\n",
       "        vertical-align: middle;\n",
       "    }\n",
       "\n",
       "    .dataframe tbody tr th {\n",
       "        vertical-align: top;\n",
       "    }\n",
       "\n",
       "    .dataframe thead th {\n",
       "        text-align: right;\n",
       "    }\n",
       "</style>\n",
       "<table border=\"1\" class=\"dataframe\">\n",
       "  <thead>\n",
       "    <tr style=\"text-align: right;\">\n",
       "      <th></th>\n",
       "      <th>Name</th>\n",
       "      <th>Age</th>\n",
       "      <th>Gender</th>\n",
       "    </tr>\n",
       "  </thead>\n",
       "  <tbody>\n",
       "    <tr>\n",
       "      <th>0</th>\n",
       "      <td>Alice</td>\n",
       "      <td>25</td>\n",
       "      <td>Female</td>\n",
       "    </tr>\n",
       "    <tr>\n",
       "      <th>1</th>\n",
       "      <td>Bob</td>\n",
       "      <td>30</td>\n",
       "      <td>Male</td>\n",
       "    </tr>\n",
       "    <tr>\n",
       "      <th>2</th>\n",
       "      <td>Claire</td>\n",
       "      <td>27</td>\n",
       "      <td>Male</td>\n",
       "    </tr>\n",
       "  </tbody>\n",
       "</table>\n",
       "</div>"
      ],
      "text/plain": [
       "     Name  Age  Gender\n",
       "0   Alice   25  Female\n",
       "1     Bob   30    Male\n",
       "2  Claire   27    Male"
      ]
     },
     "execution_count": 4,
     "metadata": {},
     "output_type": "execute_result"
    }
   ],
   "source": [
    "df = pd.DataFrame([[\"Alice\",25,\"Female\"],[\"Bob\",30,\"Male\"],[\"Claire\",27,\"Male\"]],columns =  [\"Name\",\"Age\",\"Gender\"])\n",
    "df\n"
   ]
  },
  {
   "cell_type": "markdown",
   "id": "00214b53-d20b-4cf0-8c32-37bb4ab23f0c",
   "metadata": {},
   "source": [
    "### Q4 What is ‘DataFrame’ in pandas and how is it different from pandas.series? Explain with an example.\n",
    "* pandas.series is like a list that can hold values of data\n",
    "* DataFrame is a 2d table that can be used hold multiple columns of data. It can be considered as a Series which has Series as values\n",
    "\n",
    "For example a we have a list Age = [25,30,27] and Name = [\"Alice\",\"Bob\",\"Claier\"]. Each of these is a series. \n",
    "We can combine these series to form a single DataFrame that will have these series as columns."
   ]
  },
  {
   "cell_type": "markdown",
   "id": "ab17b9c4-711f-47d2-b47e-c7b1b2ffb49e",
   "metadata": {},
   "source": [
    "### Q5. What are some common functions you can use to manipulate data in a Pandas DataFrame? Can you give an example of when you might use one of these functions?\n",
    "\n",
    "* Some important functions are read_csv() that we can use to read a csv file. read_excel() that we can use to read excel file.\n",
    "* We can use df.dtypes to find out the types of data in each column.\n",
    "* We can use df.columns() to find out names of columns as a list"
   ]
  },
  {
   "cell_type": "markdown",
   "id": "86dcb98d-615e-47d2-bf33-5449b559fab3",
   "metadata": {},
   "source": [
    "### Q6. Which of the following is mutable in nature Series, DataFrame, Panel?\n",
    "* A series is one dimensional Array.\n",
    "* A DataFrame is two dimensional Array.\n",
    "* A panel is three dimensional Array.\n",
    "All of these can be changed and hence are immutable."
   ]
  },
  {
   "cell_type": "markdown",
   "id": "2dd55af9-a7ea-450b-a220-ca61f8952da6",
   "metadata": {},
   "source": [
    "### Q7. Create a DataFrame using multiple Series. Explain with an example."
   ]
  },
  {
   "cell_type": "code",
   "execution_count": 5,
   "id": "2062a08e-ec5b-4574-b8bc-b3c82edea1a7",
   "metadata": {},
   "outputs": [
    {
     "data": {
      "text/html": [
       "<div>\n",
       "<style scoped>\n",
       "    .dataframe tbody tr th:only-of-type {\n",
       "        vertical-align: middle;\n",
       "    }\n",
       "\n",
       "    .dataframe tbody tr th {\n",
       "        vertical-align: top;\n",
       "    }\n",
       "\n",
       "    .dataframe thead th {\n",
       "        text-align: right;\n",
       "    }\n",
       "</style>\n",
       "<table border=\"1\" class=\"dataframe\">\n",
       "  <thead>\n",
       "    <tr style=\"text-align: right;\">\n",
       "      <th></th>\n",
       "      <th>Name</th>\n",
       "      <th>Department</th>\n",
       "      <th>Salary</th>\n",
       "    </tr>\n",
       "  </thead>\n",
       "  <tbody>\n",
       "    <tr>\n",
       "      <th>0</th>\n",
       "      <td>John</td>\n",
       "      <td>IT</td>\n",
       "      <td>98000</td>\n",
       "    </tr>\n",
       "    <tr>\n",
       "      <th>1</th>\n",
       "      <td>Mark</td>\n",
       "      <td>Sales</td>\n",
       "      <td>56000</td>\n",
       "    </tr>\n",
       "    <tr>\n",
       "      <th>2</th>\n",
       "      <td>Adam</td>\n",
       "      <td>HR</td>\n",
       "      <td>60000</td>\n",
       "    </tr>\n",
       "    <tr>\n",
       "      <th>3</th>\n",
       "      <td>Anna</td>\n",
       "      <td>Engineering</td>\n",
       "      <td>100000</td>\n",
       "    </tr>\n",
       "  </tbody>\n",
       "</table>\n",
       "</div>"
      ],
      "text/plain": [
       "   Name   Department  Salary\n",
       "0  John           IT   98000\n",
       "1  Mark        Sales   56000\n",
       "2  Adam           HR   60000\n",
       "3  Anna  Engineering  100000"
      ]
     },
     "execution_count": 5,
     "metadata": {},
     "output_type": "execute_result"
    }
   ],
   "source": [
    "#Assume we have data of employees of a company as series. We have names, departments and salary.\n",
    "names = pd.Series([\"John\",\"Mark\",\"Adam\",\"Anna\"])\n",
    "department = pd.Series([\"IT\",\"Sales\",\"HR\",\"Engineering\"])\n",
    "salary = pd.Series([98000,56000,60000,100000])\n",
    "# we can create a dataFrame from combining all these series.\n",
    "employee_data = pd.DataFrame({\"Name\":names,\"Department\":department,\"Salary\":salary})\n",
    "employee_data"
   ]
  }
 ],
 "metadata": {
  "kernelspec": {
   "display_name": "Python 3 (ipykernel)",
   "language": "python",
   "name": "python3"
  },
  "language_info": {
   "codemirror_mode": {
    "name": "ipython",
    "version": 3
   },
   "file_extension": ".py",
   "mimetype": "text/x-python",
   "name": "python",
   "nbconvert_exporter": "python",
   "pygments_lexer": "ipython3",
   "version": "3.10.8"
  }
 },
 "nbformat": 4,
 "nbformat_minor": 5
}
