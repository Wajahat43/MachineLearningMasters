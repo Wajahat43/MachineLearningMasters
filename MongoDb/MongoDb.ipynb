{
 "cells": [
  {
   "cell_type": "markdown",
   "id": "8c310967",
   "metadata": {},
   "source": [
    "## Mongo DB"
   ]
  },
  {
   "cell_type": "markdown",
   "id": "7b1633fd",
   "metadata": {},
   "source": [
    "### What is MongoDB?\n",
    "\tMongo db is a non relational database. It is used to store data in the form of documents and collections. A document is similar to SQL database and a collection is similar to SQL table.\n",
    "    The records are stored in form of key value pairs in mongo db.\n",
    "### Non Relational Databases\n",
    "\tNon relational databases store the records in non relational way. That means there is no rigid structure and no need of schemas.\n",
    "### When should MongoDb be preffered over SQL databases\n",
    "\n",
    "#### More Flexible\n",
    "\tMongo db doesn't have a specific schemas, therefore, it is more flexible as compared to SQL.\n",
    "    \n",
    "### Less complexity\n",
    "\tData is stored in simple form of key value pairs and there is no need to crate complex tables and their relationship which gets tedious in SQL when lots of tables are invlolved.\n",
    "    \n",
    "#### More scaleable\n",
    "\tMongo db is horizontally scaleable (we can add more machines to store more data), whereas SQL databases are vertically scaleable (we have to add more powerful machines, so more power is required). Therefore, MongoDb is better at storing large amounts of data that is distributed.\n",
    "#### Some Drawback of MongoDb\n",
    "\tIt is awesome, but it also has some drawbacks. For example there are no stored procedures in MongoDb. Moreover, complex joins cannot be applied to MongoDb.\n",
    "    "
   ]
  },
  {
   "cell_type": "markdown",
   "id": "0070105e",
   "metadata": {},
   "source": [
    "### Features of MongoDB\n",
    "Mongo DB is\n",
    "\n",
    "\t1. Flexible (you don't need rigid database schemas)\n",
    "    2. Scaleable: Is horizontally scaleable and can be used in distributed systems\n",
    "    3. High performance\n",
    "    "
   ]
  },
  {
   "cell_type": "markdown",
   "id": "a7dd4050",
   "metadata": {},
   "source": [
    "**Code to Connect Mongo DB to server**"
   ]
  },
  {
   "cell_type": "code",
   "execution_count": 2,
   "id": "1b0ec24f",
   "metadata": {},
   "outputs": [],
   "source": [
    "import pymongo\n",
    "\n",
    "client = pymongo.MongoClient(\"mongodb+srv://<username>:<password>@cluster0.sdi84ef.mongodb.net/?retryWrites=true&w=majority\")\n",
    "\n",
    "#Creating database\n",
    "db = client['firstdb']\n",
    "#creating colelction\n",
    "col = db[\"first_collection\"]\n"
   ]
  },
  {
   "cell_type": "code",
   "execution_count": 3,
   "id": "7650d23b",
   "metadata": {},
   "outputs": [
    {
     "data": {
      "text/plain": [
       "<pymongo.results.InsertOneResult at 0x2a2ce3e6bb0>"
      ]
     },
     "execution_count": 3,
     "metadata": {},
     "output_type": "execute_result"
    }
   ],
   "source": [
    "#inserting one record\n",
    "data = {\"abc\":\"123\"}\n",
    "col.insert_one(data)\n"
   ]
  },
  {
   "cell_type": "code",
   "execution_count": 4,
   "id": "5a936787",
   "metadata": {},
   "outputs": [
    {
     "data": {
      "text/plain": [
       "<pymongo.results.InsertManyResult at 0x2a2ce3eeca0>"
      ]
     },
     "execution_count": 4,
     "metadata": {},
     "output_type": "execute_result"
    }
   ],
   "source": [
    "#inserting many record\n",
    "multiple_data = [{\"Name\": \"John\", \"Salary\":12200}, {\"Name\": \"Peter\", \"Salary\":120000}]\n",
    "col.insert_many(multiple_data)"
   ]
  },
  {
   "cell_type": "code",
   "execution_count": 5,
   "id": "cc53686b",
   "metadata": {},
   "outputs": [
    {
     "name": "stdout",
     "output_type": "stream",
     "text": [
      "{'_id': ObjectId('63f5daa878ab39dc5e7d430e'), 'abc': '123'}\n",
      "{'_id': ObjectId('63f5dacd78ab39dc5e7d430f'), 'Name': 'John', 'Salary': 12200}\n",
      "{'_id': ObjectId('63f5dacd78ab39dc5e7d4310'), 'Name': 'Peter', 'Salary': 120000}\n",
      "{'_id': ObjectId('63f5e3f52374a8a5a2c3555f'), 'abc': '123'}\n",
      "{'_id': ObjectId('63f5e40a2374a8a5a2c35560'), 'Name': 'John', 'Salary': 12200}\n",
      "{'_id': ObjectId('63f5e40a2374a8a5a2c35561'), 'Name': 'Peter', 'Salary': 120000}\n"
     ]
    }
   ],
   "source": [
    "#collection.find() returns all the record in the collection\n",
    "for record in col.find():\n",
    "    print(record)"
   ]
  },
  {
   "cell_type": "code",
   "execution_count": 6,
   "id": "a5a2d96c",
   "metadata": {},
   "outputs": [
    {
     "name": "stdout",
     "output_type": "stream",
     "text": [
      "{'_id': ObjectId('63f5daa878ab39dc5e7d430e'), 'abc': '123'}\n"
     ]
    }
   ],
   "source": [
    "#col.find_one() returns the first record in collection\n",
    "print(col.find_one())"
   ]
  },
  {
   "cell_type": "code",
   "execution_count": 7,
   "id": "fb21e11a",
   "metadata": {},
   "outputs": [
    {
     "name": "stdout",
     "output_type": "stream",
     "text": [
      "{'_id': ObjectId('63f5dacd78ab39dc5e7d430f'), 'Name': 'John', 'Salary': 12200}\n",
      "{'_id': ObjectId('63f5e40a2374a8a5a2c35560'), 'Name': 'John', 'Salary': 12200}\n"
     ]
    }
   ],
   "source": [
    "#using find method to query database and getting salaries less than 100000\n",
    "for record in col.find({\"Salary\":{\"$lt\":100000}}):\n",
    "    print(record)"
   ]
  },
  {
   "cell_type": "markdown",
   "id": "ec391083",
   "metadata": {},
   "source": [
    "### Sort in MongoDb\n",
    "sort can be used to sort a collection in MongoDb in ascending or descending order.\n",
    "It takes a dictionary (object) where key is the column name or record key to sorty by and a value 1 to sort in ascending or -1 to sort in descending."
   ]
  },
  {
   "cell_type": "code",
   "execution_count": 8,
   "id": "a0961c9f",
   "metadata": {},
   "outputs": [
    {
     "name": "stdout",
     "output_type": "stream",
     "text": [
      "{'_id': ObjectId('63f5dacd78ab39dc5e7d4310'), 'Name': 'Peter', 'Salary': 120000}\n",
      "{'_id': ObjectId('63f5e40a2374a8a5a2c35561'), 'Name': 'Peter', 'Salary': 120000}\n",
      "{'_id': ObjectId('63f5dacd78ab39dc5e7d430f'), 'Name': 'John', 'Salary': 12200}\n",
      "{'_id': ObjectId('63f5e40a2374a8a5a2c35560'), 'Name': 'John', 'Salary': 12200}\n",
      "{'_id': ObjectId('63f5daa878ab39dc5e7d430e'), 'abc': '123'}\n",
      "{'_id': ObjectId('63f5e3f52374a8a5a2c3555f'), 'abc': '123'}\n"
     ]
    }
   ],
   "source": [
    "for record in col.find().sort(\"Salary\",-1 ):\n",
    "    print(record)\n"
   ]
  },
  {
   "cell_type": "markdown",
   "id": "ff4bc816",
   "metadata": {},
   "source": [
    "### Why delete_one(), delete_many(), and drop() is used.\n",
    "delete_one is used to delete one matching record from the collection. It deletes the first matched record.\n",
    "delete_many is used to delete all the matching records from the collection.\n",
    "drop is used to delete all the records from the collection.\n"
   ]
  }
 ],
 "metadata": {
  "kernelspec": {
   "display_name": "Python 3 (ipykernel)",
   "language": "python",
   "name": "python3"
  },
  "language_info": {
   "codemirror_mode": {
    "name": "ipython",
    "version": 3
   },
   "file_extension": ".py",
   "mimetype": "text/x-python",
   "name": "python",
   "nbconvert_exporter": "python",
   "pygments_lexer": "ipython3",
   "version": "3.9.13"
  }
 },
 "nbformat": 4,
 "nbformat_minor": 5
}
