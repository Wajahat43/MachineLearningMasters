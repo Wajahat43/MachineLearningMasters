{
 "cells": [
  {
   "cell_type": "code",
   "execution_count": 1,
   "id": "37fa189f-0276-4e46-8699-5653900a02f4",
   "metadata": {},
   "outputs": [
    {
     "name": "stdout",
     "output_type": "stream",
     "text": [
      "Collecting flask\n",
      "  Downloading Flask-2.2.3-py3-none-any.whl (101 kB)\n",
      "\u001b[2K     \u001b[90m━━━━━━━━━━━━━━━━━━━━━━━━━━━━━━━━━━━━━━━\u001b[0m \u001b[32m101.8/101.8 kB\u001b[0m \u001b[31m2.5 MB/s\u001b[0m eta \u001b[36m0:00:00\u001b[0ma \u001b[36m0:00:01\u001b[0m\n",
      "\u001b[?25hRequirement already satisfied: click>=8.0 in /opt/conda/lib/python3.10/site-packages (from flask) (8.1.3)\n",
      "Collecting Werkzeug>=2.2.2\n",
      "  Downloading Werkzeug-2.2.3-py3-none-any.whl (233 kB)\n",
      "\u001b[2K     \u001b[90m━━━━━━━━━━━━━━━━━━━━━━━━━━━━━━━━━━━━━━━\u001b[0m \u001b[32m233.6/233.6 kB\u001b[0m \u001b[31m8.4 MB/s\u001b[0m eta \u001b[36m0:00:00\u001b[0m\n",
      "\u001b[?25hCollecting itsdangerous>=2.0\n",
      "  Downloading itsdangerous-2.1.2-py3-none-any.whl (15 kB)\n",
      "Requirement already satisfied: Jinja2>=3.0 in /opt/conda/lib/python3.10/site-packages (from flask) (3.1.2)\n",
      "Requirement already satisfied: MarkupSafe>=2.0 in /opt/conda/lib/python3.10/site-packages (from Jinja2>=3.0->flask) (2.1.1)\n",
      "Installing collected packages: Werkzeug, itsdangerous, flask\n",
      "Successfully installed Werkzeug-2.2.3 flask-2.2.3 itsdangerous-2.1.2\n"
     ]
    }
   ],
   "source": [
    "!pip install flask"
   ]
  },
  {
   "cell_type": "markdown",
   "id": "d3170a50-5810-4a89-98dd-c1f040d2f72a",
   "metadata": {},
   "source": [
    "### Q1. What is Flask Framework? What are the advantages of Flask Framework?"
   ]
  },
  {
   "cell_type": "markdown",
   "id": "96a21dc2-70fa-4fa1-bdaa-1c4a749f059d",
   "metadata": {},
   "source": [
    "Flask is a web framework that is used to create web applications. It can be used to handle backend, augment html and also create apis.\n",
    "It has following Advantages\n",
    "* It is lightweight and provides only essential features for web application development.\n",
    "* It is Flexible and doesn't need any specific pattern, or architecture.\n",
    "* It is easy to learn and is good for small projects."
   ]
  },
  {
   "cell_type": "markdown",
   "id": "7d82e469-c0ad-45e0-8be2-c3197756a081",
   "metadata": {},
   "source": [
    "### Q2. Create a simple Flask application to display ‘Hello World!!’. Attach the screenshot of the output in Jupyter Notebook.\n"
   ]
  },
  {
   "cell_type": "code",
   "execution_count": 3,
   "id": "7ef2a6bb-2c19-4440-aac6-6ef5549c385a",
   "metadata": {},
   "outputs": [
    {
     "name": "stdout",
     "output_type": "stream",
     "text": [
      " * Serving Flask app '__main__'\n",
      " * Debug mode: off\n"
     ]
    },
    {
     "name": "stderr",
     "output_type": "stream",
     "text": [
      "WARNING: This is a development server. Do not use it in a production deployment. Use a production WSGI server instead.\n",
      " * Running on all addresses (0.0.0.0)\n",
      " * Running on http://127.0.0.1:5000\n",
      " * Running on http://172.18.0.31:5000\n",
      "Press CTRL+C to quit\n"
     ]
    }
   ],
   "source": [
    "#import\n",
    "from flask import Flask\n",
    "\n",
    "#create app object\n",
    "app = Flask(__name__)\n",
    "\n",
    "#create route for the app\n",
    "#\"/\" is the home route\n",
    "@app.route(\"/\")\n",
    "def sayHello():\n",
    "    return \"Hello World\"\n",
    "if __name__ == \"__main__\":\n",
    "    #run the app\n",
    "    app.run(host = \"0.0.0.0\")\n"
   ]
  },
  {
   "attachments": {
    "fafafb66-47e2-4311-8986-407d45622dd7.png": {
     "image/png": "[encoded data removed]"
    }
   },
   "cell_type": "markdown",
   "id": "98b8f1db-a98c-4c66-a40e-fb53244a2399",
   "metadata": {},
   "source": [
    "![image.png](attachment:fafafb66-47e2-4311-8986-407d45622dd7.png)"
   ]
  },
  {
   "cell_type": "markdown",
   "id": "e98c634f-98bc-44e6-ad1c-798269c9190c",
   "metadata": {},
   "source": [
    "### What is App routing in Flask? Why do we use app routes?\n",
    "App routing in flask means specifying a unique url (or route) which will provide access to the function. Using the route we can all that particular function. So it is mapping of url to python functions.\n",
    "App routes are used so that we can specify which functions to call, which makes code modular.\n",
    "It also helps in handling different http request tyeps (get,post) etc."
   ]
  },
  {
   "cell_type": "markdown",
   "id": "66493989-387a-4323-b339-f70151da3a78",
   "metadata": {},
   "source": [
    "### Q4. Create a “/welcome” route to display the welcome message “Welcome to ABC Corporation” and a “/” route to show the following details:\n",
    "Company Name: ABC Corporation\n",
    "\n",
    "Location: India\n",
    "\n",
    "Contact Detail: 999-999-9999\n"
   ]
  },
  {
   "cell_type": "code",
   "execution_count": 4,
   "id": "9f1d2d5d-d420-4393-bafa-6b29bd18809f",
   "metadata": {},
   "outputs": [
    {
     "name": "stdout",
     "output_type": "stream",
     "text": [
      " * Serving Flask app '__main__'\n",
      " * Debug mode: off\n"
     ]
    },
    {
     "name": "stderr",
     "output_type": "stream",
     "text": [
      "WARNING: This is a development server. Do not use it in a production deployment. Use a production WSGI server instead.\n",
      " * Running on all addresses (0.0.0.0)\n",
      " * Running on http://127.0.0.1:5000\n",
      " * Running on http://172.18.0.31:5000\n",
      "Press CTRL+C to quit\n"
     ]
    }
   ],
   "source": [
    "#import\n",
    "from flask import Flask\n",
    "\n",
    "#create app object\n",
    "app = Flask(__name__)\n",
    "\n",
    "#create route for the app\n",
    "#\"/\" is the home route\n",
    "@app.route(\"/\")\n",
    "def companyDetails():\n",
    "    return \"Company name: ABC Corportaion\\nLocation: India\\nContact Details: 999-999-9999\"\n",
    "@app.route(\"/\")\n",
    "def welcomeMessage():\n",
    "    return \"Welcome to ABC Corporation\"\n",
    "if __name__ == \"__main__\":\n",
    "    #run the app\n",
    "    app.run(host = \"0.0.0.0\")\n"
   ]
  },
  {
   "attachments": {
    "6082533b-ccc5-43e8-a6da-0ed0917b9db5.png": {
     "image/png": "[encoded data removed]"
    }
   },
   "cell_type": "markdown",
   "id": "7a0a8aee-e732-4e86-abad-95d0497fbc2f",
   "metadata": {},
   "source": [
    "![image.png](attachment:6082533b-ccc5-43e8-a6da-0ed0917b9db5.png)"
   ]
  },
  {
   "attachments": {
    "d3094f34-6795-4dc2-894a-e4dfd6447878.png": {
     "image/png": "[encoded data removed]"
    }
   },
   "cell_type": "markdown",
   "id": "b60468d7-8aff-4de6-9af4-0d9e1c12461d",
   "metadata": {},
   "source": [
    "![image.png](attachment:d3094f34-6795-4dc2-894a-e4dfd6447878.png)"
   ]
  },
  {
   "cell_type": "markdown",
   "id": "fc8e3f7f-645a-403a-97fb-820b615db413",
   "metadata": {},
   "source": [
    "### Q5. What function is used in Flask for URL Building? Write a Python code to demonstrate the working of the url_for() function.\n",
    "\n",
    "url_for is the method that is used in python for URL Building."
   ]
  },
  {
   "cell_type": "code",
   "execution_count": null,
   "id": "2eeb6bbe-5607-4fcc-a92c-67a718d87b75",
   "metadata": {},
   "outputs": [],
   "source": []
  }
 ],
 "metadata": {
  "kernelspec": {
   "display_name": "Python 3 (ipykernel)",
   "language": "python",
   "name": "python3"
  },
  "language_info": {
   "codemirror_mode": {
    "name": "ipython",
    "version": 3
   },
   "file_extension": ".py",
   "mimetype": "text/x-python",
   "name": "python",
   "nbconvert_exporter": "python",
   "pygments_lexer": "ipython3",
   "version": "3.10.8"
  }
 },
 "nbformat": 4,
 "nbformat_minor": 5
}
